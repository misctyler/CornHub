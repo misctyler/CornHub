{
 "cells": [
  {
   "cell_type": "code",
   "execution_count": null,
   "metadata": {},
   "outputs": [],
   "source": [
    "import os\n",
    "from dotenv import load_dotenv\n",
    "from dune_client.client import DuneClient\n",
    "import pandas as pd\n",
    "\n",
    "load_dotenv()\n",
    "dune = DuneClient(os.getenv('DUNE_API_KEY'))\n",
    "\n",
    "def unpack(query_result):\n",
    "    if query_result and query_result.result and query_result.result.rows:\n",
    "        df = pd.DataFrame(query_result.result.rows)\n",
    "    else:\n",
    "        print(\"No data available in the query result.\")\n",
    "        df = pd.DataFrame()  # Create an empty DataFrame if no data is available\n",
    "    return df\n",
    "\n",
    "corn_df = unpack(dune.get_latest_result(4014290))\n",
    "corn_df.to_csv('Corn Trades.csv')\n",
    "wallet_analysis = corn_df['wallet_address'].value_counts().reset_index()\n",
    "wallet_analysis.columns = ['wallet_address', 'transaction_count']\n"
   ]
  },
  {
   "cell_type": "code",
   "execution_count": null,
   "metadata": {},
   "outputs": [],
   "source": [
    "poster_df = unpack(dune.get_latest_result(4013378))\n",
    "\n",
    "poster_df"
   ]
  },
  {
   "cell_type": "code",
   "execution_count": null,
   "metadata": {},
   "outputs": [],
   "source": [
    "import os\n",
    "import json\n",
    "import asyncio\n",
    "from ring_doorbell import Ring, Auth\n",
    "from oauthlib.oauth2 import MissingTokenError\n",
    "\n",
    "cache_file = \"token.cache\"\n",
    "\n",
    "def token_updated(token):\n",
    "    with open(cache_file, \"w\") as f:\n",
    "        f.write(json.dumps(token))\n",
    "\n",
    "def otp_callback():\n",
    "    auth_code = input(\"2FA code: \")\n",
    "    return auth_code\n",
    "\n",
    "async def main():\n",
    "    if os.path.isfile(cache_file):\n",
    "        with open(cache_file) as f:\n",
    "            token = json.load(f)\n",
    "    else:\n",
    "        token = None\n",
    "\n",
    "    auth = Auth(\"MyProject/1.0\", token, token_updated)\n",
    "\n",
    "    try:\n",
    "        await asyncio.to_thread(auth.fetch_token, os.getenv('RING_USERNAME'), os.getenv('RING_PASSWORD'))\n",
    "    except MissingTokenError:\n",
    "        await asyncio.to_thread(auth.fetch_token, os.getenv('RING_USERNAME'), os.getenv('RING_PASSWORD'), otp_callback())\n",
    "\n",
    "    ring = Ring(auth)\n",
    "    await ring.update_data()\n",
    "\n",
    "    devices = ring.devices()\n",
    "    for device in devices['doorbots']:\n",
    "        print('Doorbot name: {}'.format(device.name))\n",
    "        print('Battery: {}'.format(device.battery_life))\n",
    "        print('Wifi: {}'.format(device.wifi_signal_strength))\n",
    "\n",
    "def run_main():\n",
    "    asyncio.run(main())\n",
    "\n",
    "if __name__ == \"__main__\":\n",
    "    try:\n",
    "        run_main()\n",
    "    except RuntimeError as e:\n",
    "        if str(e) == \"asyncio.run() cannot be called from a running event loop\":\n",
    "            loop = asyncio.get_running_loop()\n",
    "            loop.create_task(main())\n",
    "        else:\n",
    "            raise"
   ]
  }
 ],
 "metadata": {
  "kernelspec": {
   "display_name": "based",
   "language": "python",
   "name": "python3"
  },
  "language_info": {
   "codemirror_mode": {
    "name": "ipython",
    "version": 3
   },
   "file_extension": ".py",
   "mimetype": "text/x-python",
   "name": "python",
   "nbconvert_exporter": "python",
   "pygments_lexer": "ipython3",
   "version": "3.10.6"
  }
 },
 "nbformat": 4,
 "nbformat_minor": 2
}
